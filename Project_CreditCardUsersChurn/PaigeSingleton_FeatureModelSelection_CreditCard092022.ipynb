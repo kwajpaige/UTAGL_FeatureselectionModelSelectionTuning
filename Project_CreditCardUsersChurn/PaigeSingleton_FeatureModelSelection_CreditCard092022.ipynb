{
 "cells": [
  {
   "cell_type": "markdown",
   "id": "201e8d33-fb0f-4efe-ad1d-3c5ca1e84d7d",
   "metadata": {},
   "source": [
    "# Feature Selection, Model Selection and Tuning Project 5 - Credit Card Users Churn Prediction\n",
    "## Paige Singleton\n",
    "## September 2022\n",
    "## Problem Statement \n",
    "### 'Thera bank need to come up with a classification model that will help the bank improve its services so that customers do not renounce their credit cards'\n",
    "### 'Identify the best possible model that will give the required performance'"
   ]
  },
  {
   "cell_type": "code",
   "execution_count": 1,
   "id": "e131e7e1-3031-4079-9252-501cf1039149",
   "metadata": {},
   "outputs": [],
   "source": [
    "import pandas as pd\n",
    "import numpy as np\n",
    "import matplotlib.pyplot as plt\n",
    "import seaborn as sns\n",
    "from sklearn.model_selection import train_test_split\n",
    "from sklearn import metrics\n",
    "\n",
    "from sklearn.metrics import (\n",
    "    classification_report,\n",
    "    confusion_matrix,\n",
    "    recall_score,\n",
    "    accuracy_score,\n",
    "    precision_score,\n",
    "    f1_score,\n",
    ")\n",
    "\n",
    "from sklearn.impute import SimpleImputer\n",
    "\n",
    "from sklearn.tree import DecisionTreeClassifier\n",
    "\n",
    "# to build logstic regression model\n",
    "from sklearn.linear_model import LogisticRegression\n",
    "\n",
    "# Import Linear Regression machine learning library\n",
    "from sklearn.linear_model import LinearRegression\n",
    "from sklearn.linear_model import Ridge\n",
    "from sklearn.linear_model import Lasso\n",
    "\n",
    "# to create k folds of data and get cross validation score\n",
    "from sklearn.model_selection import KFold\n",
    "from sklearn.model_selection import cross_val_score\n",
    "\n",
    "# To do one-hot encoding\n",
    "from sklearn.preprocessing import OneHotEncoder\n",
    "\n",
    "\n",
    "# To undersample and oversample the data\n",
    "from imblearn.over_sampling import SMOTE\n",
    "from imblearn.under_sampling import RandomUnderSampler\n",
    "\n",
    "# to ignore warnings\n",
    "import warnings\n",
    "warnings.filterwarnings('ignore')"
   ]
  },
  {
   "cell_type": "code",
   "execution_count": 2,
   "id": "d8fd78c0-00f3-453f-bff2-d5d0124ba4c1",
   "metadata": {},
   "outputs": [
    {
     "name": "stdout",
     "output_type": "stream",
     "text": [
      "Requirement already satisfied: shap in c:\\users\\paige\\anaconda3\\envs\\utagl_5\\lib\\site-packages (0.41.0)\n",
      "Requirement already satisfied: numba in c:\\users\\paige\\anaconda3\\envs\\utagl_5\\lib\\site-packages (from shap) (0.55.1)\n",
      "Requirement already satisfied: scikit-learn in c:\\users\\paige\\anaconda3\\envs\\utagl_5\\lib\\site-packages (from shap) (1.0.2)\n",
      "Requirement already satisfied: tqdm>4.25.0 in c:\\users\\paige\\anaconda3\\envs\\utagl_5\\lib\\site-packages (from shap) (4.64.0)\n",
      "Requirement already satisfied: numpy in c:\\users\\paige\\anaconda3\\envs\\utagl_5\\lib\\site-packages (from shap) (1.21.5)\n",
      "Requirement already satisfied: packaging>20.9 in c:\\users\\paige\\anaconda3\\envs\\utagl_5\\lib\\site-packages (from shap) (21.3)\n",
      "Requirement already satisfied: cloudpickle in c:\\users\\paige\\anaconda3\\envs\\utagl_5\\lib\\site-packages (from shap) (2.0.0)\n",
      "Requirement already satisfied: pandas in c:\\users\\paige\\anaconda3\\envs\\utagl_5\\lib\\site-packages (from shap) (1.4.2)\n",
      "Requirement already satisfied: scipy in c:\\users\\paige\\anaconda3\\envs\\utagl_5\\lib\\site-packages (from shap) (1.7.3)\n",
      "Requirement already satisfied: slicer==0.0.7 in c:\\users\\paige\\anaconda3\\envs\\utagl_5\\lib\\site-packages (from shap) (0.0.7)\n",
      "Requirement already satisfied: pyparsing!=3.0.5,>=2.0.2 in c:\\users\\paige\\anaconda3\\envs\\utagl_5\\lib\\site-packages (from packaging>20.9->shap) (3.0.4)\n",
      "Requirement already satisfied: colorama in c:\\users\\paige\\anaconda3\\envs\\utagl_5\\lib\\site-packages (from tqdm>4.25.0->shap) (0.4.4)\n",
      "Requirement already satisfied: llvmlite<0.39,>=0.38.0rc1 in c:\\users\\paige\\anaconda3\\envs\\utagl_5\\lib\\site-packages (from numba->shap) (0.38.0)\n",
      "Requirement already satisfied: setuptools in c:\\users\\paige\\anaconda3\\envs\\utagl_5\\lib\\site-packages (from numba->shap) (61.2.0)\n",
      "Requirement already satisfied: pytz>=2020.1 in c:\\users\\paige\\anaconda3\\envs\\utagl_5\\lib\\site-packages (from pandas->shap) (2021.3)\n",
      "Requirement already satisfied: python-dateutil>=2.8.1 in c:\\users\\paige\\anaconda3\\envs\\utagl_5\\lib\\site-packages (from pandas->shap) (2.8.2)\n",
      "Requirement already satisfied: six>=1.5 in c:\\users\\paige\\anaconda3\\envs\\utagl_5\\lib\\site-packages (from python-dateutil>=2.8.1->pandas->shap) (1.16.0)\n",
      "Requirement already satisfied: joblib>=0.11 in c:\\users\\paige\\anaconda3\\envs\\utagl_5\\lib\\site-packages (from scikit-learn->shap) (1.1.0)\n",
      "Requirement already satisfied: threadpoolctl>=2.0.0 in c:\\users\\paige\\anaconda3\\envs\\utagl_5\\lib\\site-packages (from scikit-learn->shap) (2.2.0)\n"
     ]
    }
   ],
   "source": [
    "!pip install shap"
   ]
  },
  {
   "cell_type": "code",
   "execution_count": 3,
   "id": "a40a54d9-4621-4ff9-9668-da0e67e4b162",
   "metadata": {},
   "outputs": [],
   "source": [
    "\n",
    "df = pd.read_csv(\"BankChurners.csv\")\n",
    "data = df.copy()"
   ]
  },
  {
   "cell_type": "markdown",
   "id": "99d3dd92-98c9-4fa6-95d0-5fcbff98fa93",
   "metadata": {},
   "source": [
    "## Exploratory Data Analysis and Insights\n",
    "\n",
    "##### - Problem definition, questions to be answered - Data background and contents - Univariate analysis - Bivariate analysis - Key meaningful observations on individual variables and the relationship between variables"
   ]
  },
  {
   "cell_type": "code",
   "execution_count": 4,
   "id": "6b04d0c0-9c83-4a73-9120-a7020aecc288",
   "metadata": {},
   "outputs": [
    {
     "data": {
      "text/html": [
       "<div>\n",
       "<style scoped>\n",
       "    .dataframe tbody tr th:only-of-type {\n",
       "        vertical-align: middle;\n",
       "    }\n",
       "\n",
       "    .dataframe tbody tr th {\n",
       "        vertical-align: top;\n",
       "    }\n",
       "\n",
       "    .dataframe thead th {\n",
       "        text-align: right;\n",
       "    }\n",
       "</style>\n",
       "<table border=\"1\" class=\"dataframe\">\n",
       "  <thead>\n",
       "    <tr style=\"text-align: right;\">\n",
       "      <th></th>\n",
       "      <th>CLIENTNUM</th>\n",
       "      <th>Attrition_Flag</th>\n",
       "      <th>Customer_Age</th>\n",
       "      <th>Gender</th>\n",
       "      <th>Dependent_count</th>\n",
       "      <th>Education_Level</th>\n",
       "      <th>Marital_Status</th>\n",
       "      <th>Income_Category</th>\n",
       "      <th>Card_Category</th>\n",
       "      <th>Months_on_book</th>\n",
       "      <th>...</th>\n",
       "      <th>Months_Inactive_12_mon</th>\n",
       "      <th>Contacts_Count_12_mon</th>\n",
       "      <th>Credit_Limit</th>\n",
       "      <th>Total_Revolving_Bal</th>\n",
       "      <th>Avg_Open_To_Buy</th>\n",
       "      <th>Total_Amt_Chng_Q4_Q1</th>\n",
       "      <th>Total_Trans_Amt</th>\n",
       "      <th>Total_Trans_Ct</th>\n",
       "      <th>Total_Ct_Chng_Q4_Q1</th>\n",
       "      <th>Avg_Utilization_Ratio</th>\n",
       "    </tr>\n",
       "  </thead>\n",
       "  <tbody>\n",
       "    <tr>\n",
       "      <th>0</th>\n",
       "      <td>768805383</td>\n",
       "      <td>Existing Customer</td>\n",
       "      <td>45</td>\n",
       "      <td>M</td>\n",
       "      <td>3</td>\n",
       "      <td>High School</td>\n",
       "      <td>Married</td>\n",
       "      <td>$60K - $80K</td>\n",
       "      <td>Blue</td>\n",
       "      <td>39</td>\n",
       "      <td>...</td>\n",
       "      <td>1</td>\n",
       "      <td>3</td>\n",
       "      <td>12691.0</td>\n",
       "      <td>777</td>\n",
       "      <td>11914.0</td>\n",
       "      <td>1.335</td>\n",
       "      <td>1144</td>\n",
       "      <td>42</td>\n",
       "      <td>1.625</td>\n",
       "      <td>0.061</td>\n",
       "    </tr>\n",
       "    <tr>\n",
       "      <th>1</th>\n",
       "      <td>818770008</td>\n",
       "      <td>Existing Customer</td>\n",
       "      <td>49</td>\n",
       "      <td>F</td>\n",
       "      <td>5</td>\n",
       "      <td>Graduate</td>\n",
       "      <td>Single</td>\n",
       "      <td>Less than $40K</td>\n",
       "      <td>Blue</td>\n",
       "      <td>44</td>\n",
       "      <td>...</td>\n",
       "      <td>1</td>\n",
       "      <td>2</td>\n",
       "      <td>8256.0</td>\n",
       "      <td>864</td>\n",
       "      <td>7392.0</td>\n",
       "      <td>1.541</td>\n",
       "      <td>1291</td>\n",
       "      <td>33</td>\n",
       "      <td>3.714</td>\n",
       "      <td>0.105</td>\n",
       "    </tr>\n",
       "    <tr>\n",
       "      <th>2</th>\n",
       "      <td>713982108</td>\n",
       "      <td>Existing Customer</td>\n",
       "      <td>51</td>\n",
       "      <td>M</td>\n",
       "      <td>3</td>\n",
       "      <td>Graduate</td>\n",
       "      <td>Married</td>\n",
       "      <td>$80K - $120K</td>\n",
       "      <td>Blue</td>\n",
       "      <td>36</td>\n",
       "      <td>...</td>\n",
       "      <td>1</td>\n",
       "      <td>0</td>\n",
       "      <td>3418.0</td>\n",
       "      <td>0</td>\n",
       "      <td>3418.0</td>\n",
       "      <td>2.594</td>\n",
       "      <td>1887</td>\n",
       "      <td>20</td>\n",
       "      <td>2.333</td>\n",
       "      <td>0.000</td>\n",
       "    </tr>\n",
       "    <tr>\n",
       "      <th>3</th>\n",
       "      <td>769911858</td>\n",
       "      <td>Existing Customer</td>\n",
       "      <td>40</td>\n",
       "      <td>F</td>\n",
       "      <td>4</td>\n",
       "      <td>High School</td>\n",
       "      <td>NaN</td>\n",
       "      <td>Less than $40K</td>\n",
       "      <td>Blue</td>\n",
       "      <td>34</td>\n",
       "      <td>...</td>\n",
       "      <td>4</td>\n",
       "      <td>1</td>\n",
       "      <td>3313.0</td>\n",
       "      <td>2517</td>\n",
       "      <td>796.0</td>\n",
       "      <td>1.405</td>\n",
       "      <td>1171</td>\n",
       "      <td>20</td>\n",
       "      <td>2.333</td>\n",
       "      <td>0.760</td>\n",
       "    </tr>\n",
       "    <tr>\n",
       "      <th>4</th>\n",
       "      <td>709106358</td>\n",
       "      <td>Existing Customer</td>\n",
       "      <td>40</td>\n",
       "      <td>M</td>\n",
       "      <td>3</td>\n",
       "      <td>Uneducated</td>\n",
       "      <td>Married</td>\n",
       "      <td>$60K - $80K</td>\n",
       "      <td>Blue</td>\n",
       "      <td>21</td>\n",
       "      <td>...</td>\n",
       "      <td>1</td>\n",
       "      <td>0</td>\n",
       "      <td>4716.0</td>\n",
       "      <td>0</td>\n",
       "      <td>4716.0</td>\n",
       "      <td>2.175</td>\n",
       "      <td>816</td>\n",
       "      <td>28</td>\n",
       "      <td>2.500</td>\n",
       "      <td>0.000</td>\n",
       "    </tr>\n",
       "  </tbody>\n",
       "</table>\n",
       "<p>5 rows × 21 columns</p>\n",
       "</div>"
      ],
      "text/plain": [
       "   CLIENTNUM     Attrition_Flag  Customer_Age Gender  Dependent_count  \\\n",
       "0  768805383  Existing Customer            45      M                3   \n",
       "1  818770008  Existing Customer            49      F                5   \n",
       "2  713982108  Existing Customer            51      M                3   \n",
       "3  769911858  Existing Customer            40      F                4   \n",
       "4  709106358  Existing Customer            40      M                3   \n",
       "\n",
       "  Education_Level Marital_Status Income_Category Card_Category  \\\n",
       "0     High School        Married     $60K - $80K          Blue   \n",
       "1        Graduate         Single  Less than $40K          Blue   \n",
       "2        Graduate        Married    $80K - $120K          Blue   \n",
       "3     High School            NaN  Less than $40K          Blue   \n",
       "4      Uneducated        Married     $60K - $80K          Blue   \n",
       "\n",
       "   Months_on_book  ...  Months_Inactive_12_mon  Contacts_Count_12_mon  \\\n",
       "0              39  ...                       1                      3   \n",
       "1              44  ...                       1                      2   \n",
       "2              36  ...                       1                      0   \n",
       "3              34  ...                       4                      1   \n",
       "4              21  ...                       1                      0   \n",
       "\n",
       "   Credit_Limit  Total_Revolving_Bal  Avg_Open_To_Buy  Total_Amt_Chng_Q4_Q1  \\\n",
       "0       12691.0                  777          11914.0                 1.335   \n",
       "1        8256.0                  864           7392.0                 1.541   \n",
       "2        3418.0                    0           3418.0                 2.594   \n",
       "3        3313.0                 2517            796.0                 1.405   \n",
       "4        4716.0                    0           4716.0                 2.175   \n",
       "\n",
       "   Total_Trans_Amt  Total_Trans_Ct  Total_Ct_Chng_Q4_Q1  Avg_Utilization_Ratio  \n",
       "0             1144              42                1.625                  0.061  \n",
       "1             1291              33                3.714                  0.105  \n",
       "2             1887              20                2.333                  0.000  \n",
       "3             1171              20                2.333                  0.760  \n",
       "4              816              28                2.500                  0.000  \n",
       "\n",
       "[5 rows x 21 columns]"
      ]
     },
     "execution_count": 4,
     "metadata": {},
     "output_type": "execute_result"
    }
   ],
   "source": [
    "data.head()"
   ]
  },
  {
   "cell_type": "code",
   "execution_count": 5,
   "id": "73a08863-ba6b-4b95-a9ed-4e6383fdaa1d",
   "metadata": {},
   "outputs": [
    {
     "name": "stdout",
     "output_type": "stream",
     "text": [
      "<class 'pandas.core.frame.DataFrame'>\n",
      "RangeIndex: 10127 entries, 0 to 10126\n",
      "Data columns (total 21 columns):\n",
      " #   Column                    Non-Null Count  Dtype  \n",
      "---  ------                    --------------  -----  \n",
      " 0   CLIENTNUM                 10127 non-null  int64  \n",
      " 1   Attrition_Flag            10127 non-null  object \n",
      " 2   Customer_Age              10127 non-null  int64  \n",
      " 3   Gender                    10127 non-null  object \n",
      " 4   Dependent_count           10127 non-null  int64  \n",
      " 5   Education_Level           8608 non-null   object \n",
      " 6   Marital_Status            9378 non-null   object \n",
      " 7   Income_Category           10127 non-null  object \n",
      " 8   Card_Category             10127 non-null  object \n",
      " 9   Months_on_book            10127 non-null  int64  \n",
      " 10  Total_Relationship_Count  10127 non-null  int64  \n",
      " 11  Months_Inactive_12_mon    10127 non-null  int64  \n",
      " 12  Contacts_Count_12_mon     10127 non-null  int64  \n",
      " 13  Credit_Limit              10127 non-null  float64\n",
      " 14  Total_Revolving_Bal       10127 non-null  int64  \n",
      " 15  Avg_Open_To_Buy           10127 non-null  float64\n",
      " 16  Total_Amt_Chng_Q4_Q1      10127 non-null  float64\n",
      " 17  Total_Trans_Amt           10127 non-null  int64  \n",
      " 18  Total_Trans_Ct            10127 non-null  int64  \n",
      " 19  Total_Ct_Chng_Q4_Q1       10127 non-null  float64\n",
      " 20  Avg_Utilization_Ratio     10127 non-null  float64\n",
      "dtypes: float64(5), int64(10), object(6)\n",
      "memory usage: 1.6+ MB\n"
     ]
    }
   ],
   "source": [
    "data.info()"
   ]
  },
  {
   "cell_type": "code",
   "execution_count": 6,
   "id": "c3d69ff8-9686-4c0a-8b25-78864823cdeb",
   "metadata": {},
   "outputs": [
    {
     "data": {
      "text/plain": [
       "(10127, 21)"
      ]
     },
     "execution_count": 6,
     "metadata": {},
     "output_type": "execute_result"
    }
   ],
   "source": [
    "#number of rows and columns\n",
    "data.shape\n"
   ]
  },
  {
   "cell_type": "code",
   "execution_count": 7,
   "id": "ab47dcba-cf9b-4fe6-92c1-c1e0fd79da42",
   "metadata": {},
   "outputs": [
    {
     "data": {
      "text/plain": [
       "CLIENTNUM                      0\n",
       "Attrition_Flag                 0\n",
       "Customer_Age                   0\n",
       "Gender                         0\n",
       "Dependent_count                0\n",
       "Education_Level             1519\n",
       "Marital_Status               749\n",
       "Income_Category                0\n",
       "Card_Category                  0\n",
       "Months_on_book                 0\n",
       "Total_Relationship_Count       0\n",
       "Months_Inactive_12_mon         0\n",
       "Contacts_Count_12_mon          0\n",
       "Credit_Limit                   0\n",
       "Total_Revolving_Bal            0\n",
       "Avg_Open_To_Buy                0\n",
       "Total_Amt_Chng_Q4_Q1           0\n",
       "Total_Trans_Amt                0\n",
       "Total_Trans_Ct                 0\n",
       "Total_Ct_Chng_Q4_Q1            0\n",
       "Avg_Utilization_Ratio          0\n",
       "dtype: int64"
      ]
     },
     "execution_count": 7,
     "metadata": {},
     "output_type": "execute_result"
    }
   ],
   "source": [
    "# check for null values\n",
    "data.isnull().sum()"
   ]
  },
  {
   "cell_type": "code",
   "execution_count": 8,
   "id": "b55ac71b-2c50-4a8d-bb3d-c693d18f51cd",
   "metadata": {},
   "outputs": [
    {
     "data": {
      "text/plain": [
       "CLIENTNUM                   10127\n",
       "Attrition_Flag                  2\n",
       "Customer_Age                   45\n",
       "Gender                          2\n",
       "Dependent_count                 6\n",
       "Education_Level                 6\n",
       "Marital_Status                  3\n",
       "Income_Category                 6\n",
       "Card_Category                   4\n",
       "Months_on_book                 44\n",
       "Total_Relationship_Count        6\n",
       "Months_Inactive_12_mon          7\n",
       "Contacts_Count_12_mon           7\n",
       "Credit_Limit                 6205\n",
       "Total_Revolving_Bal          1974\n",
       "Avg_Open_To_Buy              6813\n",
       "Total_Amt_Chng_Q4_Q1         1158\n",
       "Total_Trans_Amt              5033\n",
       "Total_Trans_Ct                126\n",
       "Total_Ct_Chng_Q4_Q1           830\n",
       "Avg_Utilization_Ratio         964\n",
       "dtype: int64"
      ]
     },
     "execution_count": 8,
     "metadata": {},
     "output_type": "execute_result"
    }
   ],
   "source": [
    "#number of unique values in each column\n",
    "data.nunique()"
   ]
  },
  {
   "cell_type": "code",
   "execution_count": 9,
   "id": "e8dc4805-edcc-42d2-95b4-ecfca3df397d",
   "metadata": {},
   "outputs": [
    {
     "data": {
      "text/plain": [
       "CLIENTNUM                   0\n",
       "Attrition_Flag              0\n",
       "Customer_Age                0\n",
       "Gender                      0\n",
       "Dependent_count             0\n",
       "Education_Level             0\n",
       "Marital_Status              0\n",
       "Income_Category             0\n",
       "Card_Category               0\n",
       "Months_on_book              0\n",
       "Total_Relationship_Count    0\n",
       "Months_Inactive_12_mon      0\n",
       "Contacts_Count_12_mon       0\n",
       "Credit_Limit                0\n",
       "Total_Revolving_Bal         0\n",
       "Avg_Open_To_Buy             0\n",
       "Total_Amt_Chng_Q4_Q1        0\n",
       "Total_Trans_Amt             0\n",
       "Total_Trans_Ct              0\n",
       "Total_Ct_Chng_Q4_Q1         0\n",
       "Avg_Utilization_Ratio       0\n",
       "dtype: int64"
      ]
     },
     "execution_count": 9,
     "metadata": {},
     "output_type": "execute_result"
    }
   ],
   "source": [
    "#Check for duplicates\n",
    "data[data.duplicated()].count()\n"
   ]
  },
  {
   "cell_type": "code",
   "execution_count": 10,
   "id": "2f5131b0-cc59-48b7-899d-9e4c61c3e800",
   "metadata": {},
   "outputs": [
    {
     "data": {
      "text/plain": [
       "Graduate         3128\n",
       "High School      2013\n",
       "Uneducated       1487\n",
       "College          1013\n",
       "Post-Graduate     516\n",
       "Doctorate         451\n",
       "Name: Education_Level, dtype: int64"
      ]
     },
     "execution_count": 10,
     "metadata": {},
     "output_type": "execute_result"
    }
   ],
   "source": [
    "#Understand the values of column that contains nulls \n",
    "data['Education_Level'].value_counts()"
   ]
  },
  {
   "cell_type": "code",
   "execution_count": 11,
   "id": "a2622faa-a16a-4b5a-a400-931a53eef97e",
   "metadata": {},
   "outputs": [
    {
     "data": {
      "text/plain": [
       "Married     4687\n",
       "Single      3943\n",
       "Divorced     748\n",
       "Name: Marital_Status, dtype: int64"
      ]
     },
     "execution_count": 11,
     "metadata": {},
     "output_type": "execute_result"
    }
   ],
   "source": [
    "#Understand the values of column that contains nulls \n",
    "data['Marital_Status'].value_counts()"
   ]
  },
  {
   "cell_type": "code",
   "execution_count": 12,
   "id": "c191e607-ff8c-4f4a-b770-c7ff6a70963d",
   "metadata": {},
   "outputs": [
    {
     "name": "stdout",
     "output_type": "stream",
     "text": [
      "Existing Customer    8500\n",
      "Attrited Customer    1627\n",
      "Name: Attrition_Flag, dtype: int64\n",
      "_________________________________\n",
      "F    5358\n",
      "M    4769\n",
      "Name: Gender, dtype: int64\n",
      "_________________________________\n",
      "3    2732\n",
      "2    2655\n",
      "1    1838\n",
      "4    1574\n",
      "0     904\n",
      "5     424\n",
      "Name: Dependent_count, dtype: int64\n",
      "_________________________________\n",
      "Graduate         3128\n",
      "High School      2013\n",
      "Uneducated       1487\n",
      "College          1013\n",
      "Post-Graduate     516\n",
      "Doctorate         451\n",
      "Name: Education_Level, dtype: int64\n",
      "_________________________________\n",
      "Married     4687\n",
      "Single      3943\n",
      "Divorced     748\n",
      "Name: Marital_Status, dtype: int64\n",
      "_________________________________\n",
      "Less than $40K    3561\n",
      "$40K - $60K       1790\n",
      "$80K - $120K      1535\n",
      "$60K - $80K       1402\n",
      "abc               1112\n",
      "$120K +            727\n",
      "Name: Income_Category, dtype: int64\n",
      "_________________________________\n",
      "Blue        9436\n",
      "Silver       555\n",
      "Gold         116\n",
      "Platinum      20\n",
      "Name: Card_Category, dtype: int64\n",
      "_________________________________\n",
      "3    2305\n",
      "4    1912\n",
      "5    1891\n",
      "6    1866\n",
      "2    1243\n",
      "1     910\n",
      "Name: Total_Relationship_Count, dtype: int64\n",
      "_________________________________\n",
      "3    3846\n",
      "2    3282\n",
      "1    2233\n",
      "4     435\n",
      "5     178\n",
      "6     124\n",
      "0      29\n",
      "Name: Months_Inactive_12_mon, dtype: int64\n",
      "_________________________________\n",
      "3    3380\n",
      "2    3227\n",
      "1    1499\n",
      "4    1392\n",
      "0     399\n",
      "5     176\n",
      "6      54\n",
      "Name: Contacts_Count_12_mon, dtype: int64\n",
      "_________________________________\n"
     ]
    }
   ],
   "source": [
    "#Understand the values in each column that is categorical (regardless of type)\n",
    "cat_cols = ['Attrition_Flag','Gender', 'Dependent_count','Education_Level','Marital_Status','Income_Category','Card_Category','Total_Relationship_Count','Months_Inactive_12_mon','Contacts_Count_12_mon']\n",
    "for col in cat_cols:\n",
    "    print(data[col].value_counts())\n",
    "    print(\"_________________________________\")"
   ]
  },
  {
   "cell_type": "code",
   "execution_count": 13,
   "id": "f5ed66c9-f8db-4ba4-9c3a-8114e8c711e2",
   "metadata": {},
   "outputs": [
    {
     "data": {
      "text/html": [
       "<div>\n",
       "<style scoped>\n",
       "    .dataframe tbody tr th:only-of-type {\n",
       "        vertical-align: middle;\n",
       "    }\n",
       "\n",
       "    .dataframe tbody tr th {\n",
       "        vertical-align: top;\n",
       "    }\n",
       "\n",
       "    .dataframe thead th {\n",
       "        text-align: right;\n",
       "    }\n",
       "</style>\n",
       "<table border=\"1\" class=\"dataframe\">\n",
       "  <thead>\n",
       "    <tr style=\"text-align: right;\">\n",
       "      <th></th>\n",
       "      <th>count</th>\n",
       "      <th>mean</th>\n",
       "      <th>std</th>\n",
       "      <th>min</th>\n",
       "      <th>25%</th>\n",
       "      <th>50%</th>\n",
       "      <th>75%</th>\n",
       "      <th>max</th>\n",
       "    </tr>\n",
       "  </thead>\n",
       "  <tbody>\n",
       "    <tr>\n",
       "      <th>Customer_Age</th>\n",
       "      <td>10127.0</td>\n",
       "      <td>46.325960</td>\n",
       "      <td>8.016814</td>\n",
       "      <td>26.0</td>\n",
       "      <td>41.000</td>\n",
       "      <td>46.000</td>\n",
       "      <td>52.000</td>\n",
       "      <td>73.000</td>\n",
       "    </tr>\n",
       "    <tr>\n",
       "      <th>Months_on_book</th>\n",
       "      <td>10127.0</td>\n",
       "      <td>35.928409</td>\n",
       "      <td>7.986416</td>\n",
       "      <td>13.0</td>\n",
       "      <td>31.000</td>\n",
       "      <td>36.000</td>\n",
       "      <td>40.000</td>\n",
       "      <td>56.000</td>\n",
       "    </tr>\n",
       "    <tr>\n",
       "      <th>Credit_Limit</th>\n",
       "      <td>10127.0</td>\n",
       "      <td>8631.953698</td>\n",
       "      <td>9088.776650</td>\n",
       "      <td>1438.3</td>\n",
       "      <td>2555.000</td>\n",
       "      <td>4549.000</td>\n",
       "      <td>11067.500</td>\n",
       "      <td>34516.000</td>\n",
       "    </tr>\n",
       "    <tr>\n",
       "      <th>Total_Revolving_Bal</th>\n",
       "      <td>10127.0</td>\n",
       "      <td>1162.814061</td>\n",
       "      <td>814.987335</td>\n",
       "      <td>0.0</td>\n",
       "      <td>359.000</td>\n",
       "      <td>1276.000</td>\n",
       "      <td>1784.000</td>\n",
       "      <td>2517.000</td>\n",
       "    </tr>\n",
       "    <tr>\n",
       "      <th>Avg_Open_To_Buy</th>\n",
       "      <td>10127.0</td>\n",
       "      <td>7469.139637</td>\n",
       "      <td>9090.685324</td>\n",
       "      <td>3.0</td>\n",
       "      <td>1324.500</td>\n",
       "      <td>3474.000</td>\n",
       "      <td>9859.000</td>\n",
       "      <td>34516.000</td>\n",
       "    </tr>\n",
       "    <tr>\n",
       "      <th>Total_Amt_Chng_Q4_Q1</th>\n",
       "      <td>10127.0</td>\n",
       "      <td>0.759941</td>\n",
       "      <td>0.219207</td>\n",
       "      <td>0.0</td>\n",
       "      <td>0.631</td>\n",
       "      <td>0.736</td>\n",
       "      <td>0.859</td>\n",
       "      <td>3.397</td>\n",
       "    </tr>\n",
       "    <tr>\n",
       "      <th>Total_Trans_Amt</th>\n",
       "      <td>10127.0</td>\n",
       "      <td>4404.086304</td>\n",
       "      <td>3397.129254</td>\n",
       "      <td>510.0</td>\n",
       "      <td>2155.500</td>\n",
       "      <td>3899.000</td>\n",
       "      <td>4741.000</td>\n",
       "      <td>18484.000</td>\n",
       "    </tr>\n",
       "    <tr>\n",
       "      <th>Total_Trans_Ct</th>\n",
       "      <td>10127.0</td>\n",
       "      <td>64.858695</td>\n",
       "      <td>23.472570</td>\n",
       "      <td>10.0</td>\n",
       "      <td>45.000</td>\n",
       "      <td>67.000</td>\n",
       "      <td>81.000</td>\n",
       "      <td>139.000</td>\n",
       "    </tr>\n",
       "    <tr>\n",
       "      <th>Total_Ct_Chng_Q4_Q1</th>\n",
       "      <td>10127.0</td>\n",
       "      <td>0.712222</td>\n",
       "      <td>0.238086</td>\n",
       "      <td>0.0</td>\n",
       "      <td>0.582</td>\n",
       "      <td>0.702</td>\n",
       "      <td>0.818</td>\n",
       "      <td>3.714</td>\n",
       "    </tr>\n",
       "    <tr>\n",
       "      <th>Avg_Utilization_Ratio</th>\n",
       "      <td>10127.0</td>\n",
       "      <td>0.274894</td>\n",
       "      <td>0.275691</td>\n",
       "      <td>0.0</td>\n",
       "      <td>0.023</td>\n",
       "      <td>0.176</td>\n",
       "      <td>0.503</td>\n",
       "      <td>0.999</td>\n",
       "    </tr>\n",
       "  </tbody>\n",
       "</table>\n",
       "</div>"
      ],
      "text/plain": [
       "                         count         mean          std     min       25%  \\\n",
       "Customer_Age           10127.0    46.325960     8.016814    26.0    41.000   \n",
       "Months_on_book         10127.0    35.928409     7.986416    13.0    31.000   \n",
       "Credit_Limit           10127.0  8631.953698  9088.776650  1438.3  2555.000   \n",
       "Total_Revolving_Bal    10127.0  1162.814061   814.987335     0.0   359.000   \n",
       "Avg_Open_To_Buy        10127.0  7469.139637  9090.685324     3.0  1324.500   \n",
       "Total_Amt_Chng_Q4_Q1   10127.0     0.759941     0.219207     0.0     0.631   \n",
       "Total_Trans_Amt        10127.0  4404.086304  3397.129254   510.0  2155.500   \n",
       "Total_Trans_Ct         10127.0    64.858695    23.472570    10.0    45.000   \n",
       "Total_Ct_Chng_Q4_Q1    10127.0     0.712222     0.238086     0.0     0.582   \n",
       "Avg_Utilization_Ratio  10127.0     0.274894     0.275691     0.0     0.023   \n",
       "\n",
       "                            50%        75%        max  \n",
       "Customer_Age             46.000     52.000     73.000  \n",
       "Months_on_book           36.000     40.000     56.000  \n",
       "Credit_Limit           4549.000  11067.500  34516.000  \n",
       "Total_Revolving_Bal    1276.000   1784.000   2517.000  \n",
       "Avg_Open_To_Buy        3474.000   9859.000  34516.000  \n",
       "Total_Amt_Chng_Q4_Q1      0.736      0.859      3.397  \n",
       "Total_Trans_Amt        3899.000   4741.000  18484.000  \n",
       "Total_Trans_Ct           67.000     81.000    139.000  \n",
       "Total_Ct_Chng_Q4_Q1       0.702      0.818      3.714  \n",
       "Avg_Utilization_Ratio     0.176      0.503      0.999  "
      ]
     },
     "execution_count": 13,
     "metadata": {},
     "output_type": "execute_result"
    }
   ],
   "source": [
    "# Calculate summary stats for numerical columns that are not categories\n",
    "num_cols = ['Customer_Age','Months_on_book','Credit_Limit','Total_Revolving_Bal','Avg_Open_To_Buy','Total_Amt_Chng_Q4_Q1','Total_Trans_Amt','Total_Trans_Ct','Total_Ct_Chng_Q4_Q1','Avg_Utilization_Ratio']\n",
    "data[num_cols].describe().T"
   ]
  },
  {
   "cell_type": "markdown",
   "id": "84dfce6b-76da-469a-85c5-3b7219e66d16",
   "metadata": {},
   "source": [
    "### Initial Insights"
   ]
  },
  {
   "cell_type": "markdown",
   "id": "eb6c13fc-373a-402f-9e46-ece2c057b92c",
   "metadata": {},
   "source": [
    "- CLIENTNUM: Client number. Unique identifier for the customer holding the account\n",
    "    - Drop from dataset as this is a sequence value and not informative\n",
    "- Attrition_Flag: Internal event (customer activity) variable - if the account is closed then \"Attrited Customer\" else \"Existing Customer\"\n",
    "    - Target variable\n",
    "    - change to 1 (churn - attrited customer) and 0 (not churn - existing customer)\n",
    "- Customer_Age: Age in Years\n",
    "    - 45 unique values \n",
    "    - no nulls\n",
    "    - mean is approx equal to median\n",
    "    - currently integer therefore no changes needed\n",
    "- Gender: Gender of the account holder\n",
    "    - Object with 2 unique values\n",
    "    - change to category and encode\n",
    "- Dependent_count: Number of dependents\n",
    "    - int64 with 6 unigue values\n",
    "    - change to category and encode\n",
    "- Education_Level:  Educational Qualification of the account holder - Graduate, High School, Unknown, Uneducated, College(refers to a college student), Post-Graduate, Doctorate.\n",
    "    - Object with 6 unique values and 1519 nulls\n",
    "    - Change to numeric values in the following order (uneducated - 0, High school - 1, College - 2, Graduate - 3, Post Graduate - 4, Doctorate - 5, Unknown (null) - 6)\n",
    "    - Encode\n",
    "    - Explore relationship between education and other variable to determine best strategy for imputing null (unknown) values\n",
    "- Marital_Status: Marital Status of the account holder\n",
    "    - Object with 3 uniqu values \n",
    "    - 749 null values \n",
    "    - change to mumeric (Married -1, Single - 2, Divorced - 3)\n",
    "    - Encode \n",
    "    - Explore relationship between education and other variable to determine best strategy for imputing null (unknown) values   \n",
    "- Income_Category: Annual Income Category of the account holder\n",
    "    - object with 6 unique values\n",
    "    - value 'abc' will need to be replaced; Explore relationship between education and other variable to determine best strategy for imputing null (unknown) values  \n",
    "    - 5 values will need to be changes to numeric and categorized and encoded (Less than $40K: 0, $40K - $60K:1,$60K - $80K:2, $80K - $120K:3,$120K +:4)\n",
    "- Card_Category: Type of Card\n",
    "    - object with 4 unique values\n",
    "    - change to numeric, categorize and encode (Blue: 0, Silver:1, Gold,2; Platimum:3)\n",
    "- Months_on_book: Period of relationship with the bank\n",
    "    - int64 with 44 unique values\n",
    "    - mean is approx equal to median\n",
    "- Total_Relationship_Count: Total no. of products held by the customer\n",
    "    - int64 with 6 unique values\n",
    "    - change to category and encode \n",
    "- Months_Inactive_12_mon: No. of months inactive in the last 12 months\n",
    "    - int64 with 7 unique values \n",
    "    - change to category and encode \n",
    "- Contacts_Count_12_mon: No. of Contacts between the customer and bank in the last 12 months\n",
    "    - int64 with 7 unique values\n",
    "    - change to category and encode\n",
    "- Credit_Limit: Credit Limit on the Credit Card\n",
    "    - float64 \n",
    "    - mean is significantly greater than median therefore explore scaling therefore data is likely skewed to the right\n",
    "- Total_Revolving_Bal: The balance that carries over from one month to the next is the revolving balance\n",
    "    - int64\n",
    "    - mean is slightly lower than median there for data is likely slightly skewed to the left\n",
    "- Avg_Open_To_Buy: Open to Buy refers to the amount left on the credit card to use (Average of last 12 months)\n",
    "    - float64 \n",
    "    - mean is significantly greater than median therefore explore scaling therefore data is likely skewed to the right\n",
    "- Total_Trans_Amt: Total Transaction Amount (Last 12 months)\n",
    "    - int64\n",
    "    - mean is slightly greater than median therefore the data is likely skewed to the right\n",
    "- Total_Trans_Ct: Total Transaction Count (Last 12 months)\n",
    "    - int64 with value count of 126\n",
    "    - mean is approximately equal to the median\n",
    "- Total_Ct_Chng_Q4_Q1: Ratio of the total transaction count in 4th quarter and the total transaction count in 1st quarter\n",
    "    - float64\n",
    "    - mean is approx equal to median\n",
    "- Total_Amt_Chng_Q4_Q1: Ratio of the total transaction amount in 4th quarter and the total transaction amount in 1st quarter; \n",
    "    - float64\n",
    "    - mean is approx equal to median\n",
    "- Avg_Utilization_Ratio: Represents how much of the available credit the customer spent\n",
    "    - float64\n",
    "    - mean is greater than median therefore data is likely skewed to the right"
   ]
  },
  {
   "cell_type": "markdown",
   "id": "2572e2cd-c82f-418a-b2d6-bde8627a5e3a",
   "metadata": {},
   "source": [
    "### Univariate and Bivariate Analysis"
   ]
  },
  {
   "cell_type": "code",
   "execution_count": 14,
   "id": "46e3af9a-9e5b-4108-a4d4-e5bddaa3e13b",
   "metadata": {},
   "outputs": [],
   "source": [
    "#convert data type of category columns\n",
    "data[cat_cols] = data[cat_cols].astype('category')"
   ]
  },
  {
   "cell_type": "code",
   "execution_count": 15,
   "id": "9c01b43d-56fb-4449-ae18-104052a1dc2b",
   "metadata": {},
   "outputs": [],
   "source": [
    "# From Anime Rating Prediction case study, function to plot a boxplot and a histogram along the same scale.\n",
    "\n",
    "\n",
    "def histogram_boxplot(data, feature, figsize=(12, 7), kde=False, bins=None):\n",
    "    \"\"\"\n",
    "    Boxplot and histogram combined\n",
    "\n",
    "    data: dataframe\n",
    "    feature: dataframe column\n",
    "    figsize: size of figure (default (12,7))\n",
    "    kde: whether to the show density curve (default False)\n",
    "    bins: number of bins for histogram (default None)\n",
    "    \"\"\"\n",
    "    f2, (ax_box2, ax_hist2) = plt.subplots(\n",
    "        nrows=2,  # Number of rows of the subplot grid= 2\n",
    "        sharex=True,  # x-axis will be shared among all subplots\n",
    "        gridspec_kw={\"height_ratios\": (0.25, 0.75)},\n",
    "        figsize=figsize,\n",
    "    )  # creating the 2 subplots\n",
    "    sns.boxplot(\n",
    "        data=data, x=feature, ax=ax_box2, showmeans=True, color=\"violet\"\n",
    "    )  # boxplot will be created and a star will indicate the mean value of the column\n",
    "    sns.histplot(\n",
    "        data=data, x=feature, kde=kde, ax=ax_hist2, bins=bins, palette=\"winter\"\n",
    "    ) if bins else sns.histplot(\n",
    "        data=data, x=feature, kde=kde, ax=ax_hist2\n",
    "    )  # For histogram\n",
    "    ax_hist2.axvline(\n",
    "        data[feature].mean(), color=\"green\", linestyle=\"--\"\n",
    "    )  # Add mean to the histogram\n",
    "    ax_hist2.axvline(\n",
    "        data[feature].median(), color=\"black\", linestyle=\"-\"\n",
    "    )  # Add median to the histogram\n"
   ]
  },
  {
   "cell_type": "markdown",
   "id": "8749ab7b-4a53-427e-9b1b-d42b9c1b7a95",
   "metadata": {},
   "source": [
    "##### EDA - Numerical variable - Customer Age"
   ]
  },
  {
   "cell_type": "code",
   "execution_count": 16,
   "id": "b8a2dd2d-db4f-4078-b9c1-95dee2baa66b",
   "metadata": {},
   "outputs": [
    {
     "data": {
      "image/png": "[encoded data removed]",
      "text/plain": [
       "<Figure size 864x504 with 2 Axes>"
      ]
     },
     "metadata": {
      "needs_background": "light"
     },
     "output_type": "display_data"
    }
   ],
   "source": [
    "# Distribution of customer age\n",
    "histogram_boxplot(data, 'Customer_Age')"
   ]
  },
  {
   "cell_type": "code",
   "execution_count": 36,
   "id": "bc7b2ef1-02d7-4f5d-8abe-446b1546b9d3",
   "metadata": {},
   "outputs": [
    {
     "data": {
      "text/plain": [
       "Attrition_Flag\n",
       "Attrited Customer    47.0\n",
       "Existing Customer    46.0\n",
       "Name: Customer_Age, dtype: float64"
      ]
     },
     "execution_count": 36,
     "metadata": {},
     "output_type": "execute_result"
    }
   ],
   "source": [
    "data.groupby(['Attrition_Flag'])['Customer_Age'].median()"
   ]
  },
  {
   "cell_type": "markdown",
   "id": "9e6394cc-5f27-4511-9462-b13679b639ee",
   "metadata": {},
   "source": [
    "##### EDA - Numerical variable - Month on book"
   ]
  },
  {
   "cell_type": "code",
   "execution_count": 17,
   "id": "513b338d-abbb-4d78-b64d-3c86323c384d",
   "metadata": {},
   "outputs": [
    {
     "data": {
      "image/png": "[encoded data removed]",
      "text/plain": [
       "<Figure size 864x504 with 2 Axes>"
      ]
     },
     "metadata": {
      "needs_background": "light"
     },
     "output_type": "display_data"
    }
   ],
   "source": [
    "# Distribution of months on book\n",
    "histogram_boxplot(data, 'Months_on_book')"
   ]
  },
  {
   "cell_type": "code",
   "execution_count": 37,
   "id": "036e4f42-7178-4419-b5ed-013005dca180",
   "metadata": {},
   "outputs": [
    {
     "data": {
      "text/plain": [
       "Attrition_Flag\n",
       "Attrited Customer    36.0\n",
       "Existing Customer    36.0\n",
       "Name: Months_on_book, dtype: float64"
      ]
     },
     "execution_count": 37,
     "metadata": {},
     "output_type": "execute_result"
    }
   ],
   "source": [
    "data.groupby(['Attrition_Flag'])['Months_on_book'].median()"
   ]
  },
  {
   "cell_type": "markdown",
   "id": "ff66297d-5851-42e3-8d02-84f8adfe5652",
   "metadata": {},
   "source": [
    "##### EDA - Numerical variable - Credit Limit"
   ]
  },
  {
   "cell_type": "code",
   "execution_count": 18,
   "id": "cd22ccd2-40a3-4b7c-b69c-bcfb299edf93",
   "metadata": {},
   "outputs": [
    {
     "data": {
      "image/png": "[encoded data removed]",
      "text/plain": [
       "<Figure size 864x504 with 2 Axes>"
      ]
     },
     "metadata": {
      "needs_background": "light"
     },
     "output_type": "display_data"
    }
   ],
   "source": [
    "# Distribution of credit limit\n",
    "histogram_boxplot(data, 'Credit_Limit')"
   ]
  },
  {
   "cell_type": "code",
   "execution_count": 39,
   "id": "0017c535-8b08-4655-a605-bdc0833a94a4",
   "metadata": {},
   "outputs": [
    {
     "data": {
      "text/plain": [
       "Attrition_Flag\n",
       "Attrited Customer    4178.0\n",
       "Existing Customer    4643.5\n",
       "Name: Credit_Limit, dtype: float64"
      ]
     },
     "execution_count": 39,
     "metadata": {},
     "output_type": "execute_result"
    }
   ],
   "source": [
    "data.groupby(['Attrition_Flag'])['Credit_Limit'].median()"
   ]
  },
  {
   "cell_type": "markdown",
   "id": "54e87a51-b5e9-4f0f-8eee-33c53fc7299b",
   "metadata": {},
   "source": [
    "##### EDA - Numerical variable - Total Revolving Balance"
   ]
  },
  {
   "cell_type": "code",
   "execution_count": 19,
   "id": "d7481ba4-61fd-43ed-b829-a91dba712fc0",
   "metadata": {},
   "outputs": [
    {
     "data": {
      "image/png": "[encoded data removed]",
      "text/plain": [
       "<Figure size 864x504 with 2 Axes>"
      ]
     },
     "metadata": {
      "needs_background": "light"
     },
     "output_type": "display_data"
    }
   ],
   "source": [
    "# Distribution of total revolving balance\n",
    "histogram_boxplot(data, 'Total_Revolving_Bal')"
   ]
  },
  {
   "cell_type": "code",
   "execution_count": 40,
   "id": "91c96a8d-ee6d-4d91-9df5-84c8e8326185",
   "metadata": {},
   "outputs": [
    {
     "data": {
      "text/plain": [
       "Attrition_Flag\n",
       "Attrited Customer       0.0\n",
       "Existing Customer    1364.0\n",
       "Name: Total_Revolving_Bal, dtype: float64"
      ]
     },
     "execution_count": 40,
     "metadata": {},
     "output_type": "execute_result"
    }
   ],
   "source": [
    "data.groupby(['Attrition_Flag'])['Total_Revolving_Bal'].median()"
   ]
  },
  {
   "cell_type": "markdown",
   "id": "51dfca6f-e7ff-4d8e-b1ef-bfb14efafb63",
   "metadata": {},
   "source": [
    "##### EDA - Numerical variable - Average open to buy"
   ]
  },
  {
   "cell_type": "code",
   "execution_count": 20,
   "id": "3570e476-859a-4b93-b8d5-65216a9f8063",
   "metadata": {},
   "outputs": [
    {
     "data": {
      "image/png": "[encoded data removed]",
      "text/plain": [
       "<Figure size 864x504 with 2 Axes>"
      ]
     },
     "metadata": {
      "needs_background": "light"
     },
     "output_type": "display_data"
    }
   ],
   "source": [
    "# Distribution of average open to buy\n",
    "histogram_boxplot(data, 'Avg_Open_To_Buy')"
   ]
  },
  {
   "cell_type": "code",
   "execution_count": 41,
   "id": "aae2c9e4-37b7-4e81-8b75-1452a134d51b",
   "metadata": {},
   "outputs": [
    {
     "data": {
      "text/plain": [
       "Attrition_Flag\n",
       "Attrited Customer    3488.0\n",
       "Existing Customer    3469.5\n",
       "Name: Avg_Open_To_Buy, dtype: float64"
      ]
     },
     "execution_count": 41,
     "metadata": {},
     "output_type": "execute_result"
    }
   ],
   "source": [
    "data.groupby(['Attrition_Flag'])['Avg_Open_To_Buy'].median()"
   ]
  },
  {
   "cell_type": "markdown",
   "id": "cd88af6a-5eb6-4761-b36c-36762f6b066b",
   "metadata": {},
   "source": [
    "##### EDA - Numerical variable - Total amount change "
   ]
  },
  {
   "cell_type": "code",
   "execution_count": 21,
   "id": "bda7b448-71b0-4b74-8e99-77b85aad1c1f",
   "metadata": {
    "tags": []
   },
   "outputs": [
    {
     "data": {
      "image/png": "[encoded data removed]",
      "text/plain": [
       "<Figure size 864x504 with 2 Axes>"
      ]
     },
     "metadata": {
      "needs_background": "light"
     },
     "output_type": "display_data"
    }
   ],
   "source": [
    "# Distribution of Total amount change \n",
    "histogram_boxplot(data, 'Total_Amt_Chng_Q4_Q1')"
   ]
  },
  {
   "cell_type": "code",
   "execution_count": 42,
   "id": "6b72535a-881d-4030-b0b6-fc2f5dd0e4f7",
   "metadata": {},
   "outputs": [
    {
     "data": {
      "text/plain": [
       "Attrition_Flag\n",
       "Attrited Customer    0.701\n",
       "Existing Customer    0.743\n",
       "Name: Total_Amt_Chng_Q4_Q1, dtype: float64"
      ]
     },
     "execution_count": 42,
     "metadata": {},
     "output_type": "execute_result"
    }
   ],
   "source": [
    "data.groupby(['Attrition_Flag'])['Total_Amt_Chng_Q4_Q1'].median()"
   ]
  },
  {
   "cell_type": "markdown",
   "id": "1ef2a10c-615a-447e-957b-57327b11139d",
   "metadata": {},
   "source": [
    "##### EDA - Numerical variable - Total Transaction amount"
   ]
  },
  {
   "cell_type": "code",
   "execution_count": 22,
   "id": "66d106e0-f19d-46f9-a11c-595767ceae78",
   "metadata": {},
   "outputs": [
    {
     "data": {
      "image/png": "[encoded data removed]",
      "text/plain": [
       "<Figure size 864x504 with 2 Axes>"
      ]
     },
     "metadata": {
      "needs_background": "light"
     },
     "output_type": "display_data"
    }
   ],
   "source": [
    "# Distribution of Total transaction amount\n",
    "histogram_boxplot(data, 'Total_Trans_Amt')"
   ]
  },
  {
   "cell_type": "code",
   "execution_count": 43,
   "id": "3ceecc32-1e0e-499a-91de-030a68e4f4aa",
   "metadata": {},
   "outputs": [
    {
     "data": {
      "text/plain": [
       "Attrition_Flag\n",
       "Attrited Customer    2329.0\n",
       "Existing Customer    4100.0\n",
       "Name: Total_Trans_Amt, dtype: float64"
      ]
     },
     "execution_count": 43,
     "metadata": {},
     "output_type": "execute_result"
    }
   ],
   "source": [
    "data.groupby(['Attrition_Flag'])['Total_Trans_Amt'].median()"
   ]
  },
  {
   "cell_type": "markdown",
   "id": "0c9e99d3-bc9b-438a-b28c-4a1b513f230e",
   "metadata": {},
   "source": [
    "##### EDA - Numerical variable - Total Transaction Count "
   ]
  },
  {
   "cell_type": "code",
   "execution_count": 23,
   "id": "d911e941-bca8-4e7d-8bea-9643122319ef",
   "metadata": {
    "tags": []
   },
   "outputs": [
    {
     "data": {
      "image/png": "[encoded data removed]",
      "text/plain": [
       "<Figure size 864x504 with 2 Axes>"
      ]
     },
     "metadata": {
      "needs_background": "light"
     },
     "output_type": "display_data"
    }
   ],
   "source": [
    "# Distribution of total transaction count \n",
    "histogram_boxplot(data, 'Total_Trans_Ct')"
   ]
  },
  {
   "cell_type": "code",
   "execution_count": 44,
   "id": "08a7e8ec-9339-49a3-a274-dc803220548e",
   "metadata": {},
   "outputs": [
    {
     "data": {
      "text/plain": [
       "Attrition_Flag\n",
       "Attrited Customer    43.0\n",
       "Existing Customer    71.0\n",
       "Name: Total_Trans_Ct, dtype: float64"
      ]
     },
     "execution_count": 44,
     "metadata": {},
     "output_type": "execute_result"
    }
   ],
   "source": [
    "data.groupby(['Attrition_Flag'])['Total_Trans_Ct'].median()"
   ]
  },
  {
   "cell_type": "markdown",
   "id": "db180f5d-3678-43ba-8cdf-ad3206f9842f",
   "metadata": {},
   "source": [
    "##### EDA - Numerical variable - Total Count change "
   ]
  },
  {
   "cell_type": "code",
   "execution_count": 24,
   "id": "d3ccacae-3ff6-479b-ad6b-2175f1873016",
   "metadata": {},
   "outputs": [
    {
     "data": {
      "image/png": "[encoded data removed]",
      "text/plain": [
       "<Figure size 864x504 with 2 Axes>"
      ]
     },
     "metadata": {
      "needs_background": "light"
     },
     "output_type": "display_data"
    }
   ],
   "source": [
    "# Distribution of total count change \n",
    "histogram_boxplot(data, 'Total_Ct_Chng_Q4_Q1')"
   ]
  },
  {
   "cell_type": "code",
   "execution_count": 46,
   "id": "4902091b-3961-4032-83a8-da347ced33be",
   "metadata": {},
   "outputs": [
    {
     "data": {
      "text/plain": [
       "Attrition_Flag\n",
       "Attrited Customer    0.531\n",
       "Existing Customer    0.721\n",
       "Name: Total_Ct_Chng_Q4_Q1, dtype: float64"
      ]
     },
     "execution_count": 46,
     "metadata": {},
     "output_type": "execute_result"
    }
   ],
   "source": [
    "data.groupby(['Attrition_Flag'])['Total_Ct_Chng_Q4_Q1'].median()"
   ]
  },
  {
   "cell_type": "markdown",
   "id": "cc56b86e-281e-46d2-8b6a-f728cd1b31bd",
   "metadata": {},
   "source": [
    "##### EDA - Numerical variable - Average Utilization Ratio"
   ]
  },
  {
   "cell_type": "code",
   "execution_count": 25,
   "id": "7f161841-9cf1-4eab-a9a0-4e43eebdb2d7",
   "metadata": {},
   "outputs": [
    {
     "data": {
      "image/png": "[encoded data removed]",
      "text/plain": [
       "<Figure size 864x504 with 2 Axes>"
      ]
     },
     "metadata": {
      "needs_background": "light"
     },
     "output_type": "display_data"
    }
   ],
   "source": [
    "# Distribution of average utilization ratio\n",
    "histogram_boxplot(data, 'Avg_Utilization_Ratio')"
   ]
  },
  {
   "cell_type": "code",
   "execution_count": 47,
   "id": "08d3016a-43b1-48cb-876e-b78070acadc5",
   "metadata": {},
   "outputs": [
    {
     "data": {
      "text/plain": [
       "Attrition_Flag\n",
       "Attrited Customer    0.000\n",
       "Existing Customer    0.211\n",
       "Name: Avg_Utilization_Ratio, dtype: float64"
      ]
     },
     "execution_count": 47,
     "metadata": {},
     "output_type": "execute_result"
    }
   ],
   "source": [
    "data.groupby(['Attrition_Flag'])['Avg_Utilization_Ratio'].median()"
   ]
  },
  {
   "cell_type": "code",
   "execution_count": null,
   "id": "d491546e-8c4a-4119-b331-ef5331de8a04",
   "metadata": {},
   "outputs": [
    {
     "data": {
      "image/png": "[encoded data removed]",
      "text/plain": [
       "<Figure size 1080x504 with 2 Axes>"
      ]
     },
     "metadata": {
      "needs_background": "light"
     },
     "output_type": "display_data"
    }
   ],
   "source": [
    "#Explore numerical variable relationships and multi-collinearity\n",
    "plt.figure(figsize=(15, 7))\n",
    "sns.heatmap(data.corr(), annot=True, vmin=-1, vmax=1, fmt=\".2f\", cmap=\"Spectral\")\n",
    "plt.show()"
   ]
  },
  {
   "cell_type": "markdown",
   "id": "cfdc39ba-3516-4453-a415-fc9565c3fc80",
   "metadata": {},
   "source": [
    "### Insights on Numerical columns \n",
    "- Customer_Age; data is close to normally distributed; check for outlier treatment\n",
    "- Months_on_book: very strange distribution; one value dominates the dataset which is otherwise normally distributed; check for outlier treatment; median months on books for both existing and attiting cusotmers is 36\n",
    "- Credit_Limit: Data is skewed; consider log or z transformation; check for outlier treatment; Median - Attrited Customer: 4178.0; Median - Existing Customer: 4643.5\n",
    "- Total_Revolving_Bal: Other than high number of values on the low end, (and to some extent the high end); data is evenly distributed; consider minmax scaling;Median -  Attrited Customer: 0.0; Existing Customer: 1364.0; consider removing this variable as it may be calculated after the customer has attrited\n",
    "- Avg_Open_To_Buy: Data is skewed; consider log or z transformation; check for outlier treatment; Median - Attrited Customer: 3488.0; Median -Existing Customer: 3469.5\n",
    "- Total_Amt_Chng_Q4_Q1: rsomewhat normally distributed; check for outlier treatment; Median Attrited Customer:  0.701; Median xisting Customer:0.743\n",
    "- Total_Trans_Amt: multi - modal distribution; consider z-transformation; check for outliers; Median Attrited Customer:2329.0; Median Existing Customer: 4100.0\n",
    "- Total_Trans_Ct: bimodal distribution (somewhat normal); check for outlier treatment; Median Attrited Customer: 43.0; Median Existing Customer: 71.0\n",
    "- Total_Ct_Chng_Q4_Q1: Somewhat normal distribution with outliers; check for outlier treatment; Median Attrited Customer: 0.531; Median Existing Customer: 0.721\n",
    "- Avg_Utilization_Ratio: skewed distrubtion; consider log or z transformation; Median - Attrited Customer: 0.000; Median -Existing Customer: 0.211\n",
    "\n",
    "#### Multi-collinearity\n",
    "- Customer Age and Months on Books: .79\n",
    "- Avg Utilization ratio and Credit Limit: -.48\n",
    "- Avg Utilization ratio and Total revolving balance: .62\n",
    "- Avg Utilization ratio and avg open to buy: -.54\n",
    "- Total transaction amt and Total transaction count: .81\n",
    "\n",
    "Consider dropping variables based on multi collinearity\n"
   ]
  },
  {
   "cell_type": "markdown",
   "id": "44f44c98-91ca-4253-a40b-31141aaf7e2e",
   "metadata": {},
   "source": [
    "##### EDA - Categorical variable - Gender"
   ]
  },
  {
   "cell_type": "code",
   "execution_count": 30,
   "id": "776cc9fc-3588-433b-b1ba-2a77db985c3d",
   "metadata": {},
   "outputs": [
    {
     "data": {
      "text/plain": [
       "<seaborn.axisgrid.FacetGrid at 0x1e7bb37ed90>"
      ]
     },
     "execution_count": 30,
     "metadata": {},
     "output_type": "execute_result"
    },
    {
     "data": {
      "image/png": "[encoded data removed]",
      "text/plain": [
       "<Figure size 487.125x360 with 1 Axes>"
      ]
     },
     "metadata": {
      "needs_background": "light"
     },
     "output_type": "display_data"
    }
   ],
   "source": [
    "sns.catplot(data=data, kind='count',x='Gender', hue='Attrition_Flag')"
   ]
  },
  {
   "cell_type": "code",
   "execution_count": 32,
   "id": "30e36395-9c79-4744-b50c-bdb5ac4f1ac4",
   "metadata": {},
   "outputs": [
    {
     "data": {
      "text/plain": [
       "F    52.908068\n",
       "M    47.091932\n",
       "Name: Gender, dtype: float64"
      ]
     },
     "execution_count": 32,
     "metadata": {},
     "output_type": "execute_result"
    }
   ],
   "source": [
    "data['Gender'].value_counts(1)*100"
   ]
  },
  {
   "cell_type": "code",
   "execution_count": 53,
   "id": "08463b45-df4f-444d-a12b-1fb58bc4bafd",
   "metadata": {},
   "outputs": [
    {
     "data": {
      "text/plain": [
       "Attrition_Flag      \n",
       "Attrited Customer  F    57.160418\n",
       "                   M    42.839582\n",
       "Existing Customer  F    52.094118\n",
       "                   M    47.905882\n",
       "Name: Gender, dtype: float64"
      ]
     },
     "execution_count": 53,
     "metadata": {},
     "output_type": "execute_result"
    }
   ],
   "source": [
    "data.groupby(['Attrition_Flag'])['Gender'].value_counts(1)*100"
   ]
  },
  {
   "cell_type": "markdown",
   "id": "214dd71f-ae36-489d-958d-ac4d14a41451",
   "metadata": {},
   "source": [
    "##### EDA - Categorical variable - Dependent Count "
   ]
  },
  {
   "cell_type": "code",
   "execution_count": 49,
   "id": "3be5c117-22b7-48f4-95e0-b896fd181531",
   "metadata": {},
   "outputs": [
    {
     "data": {
      "text/plain": [
       "<seaborn.axisgrid.FacetGrid at 0x1e7bf0ca820>"
      ]
     },
     "execution_count": 49,
     "metadata": {},
     "output_type": "execute_result"
    },
    {
     "data": {
      "image/png": "[encoded data removed]",
      "text/plain": [
       "<Figure size 487.125x360 with 1 Axes>"
      ]
     },
     "metadata": {
      "needs_background": "light"
     },
     "output_type": "display_data"
    }
   ],
   "source": [
    "sns.catplot(data=data, kind='count',x='Dependent_count', hue='Attrition_Flag')"
   ]
  },
  {
   "cell_type": "code",
   "execution_count": 50,
   "id": "6d8fd307-58a5-4499-990d-f6997094d4e6",
   "metadata": {},
   "outputs": [
    {
     "data": {
      "text/plain": [
       "3    26.977387\n",
       "2    26.217044\n",
       "1    18.149501\n",
       "4    15.542609\n",
       "0     8.926632\n",
       "5     4.186827\n",
       "Name: Dependent_count, dtype: float64"
      ]
     },
     "execution_count": 50,
     "metadata": {},
     "output_type": "execute_result"
    }
   ],
   "source": [
    "data['Dependent_count'].value_counts(1)*100"
   ]
  },
  {
   "cell_type": "code",
   "execution_count": 52,
   "id": "89676d6e-412a-437b-a628-b547b8c653f6",
   "metadata": {},
   "outputs": [
    {
     "data": {
      "text/plain": [
       "Attrition_Flag      \n",
       "Attrited Customer  3    29.625077\n",
       "                   2    25.629994\n",
       "                   1    16.533497\n",
       "                   4    15.980332\n",
       "                   0     8.297480\n",
       "                   5     3.933620\n",
       "Existing Customer  3    26.470588\n",
       "                   2    26.329412\n",
       "                   1    18.458824\n",
       "                   4    15.458824\n",
       "                   0     9.047059\n",
       "                   5     4.235294\n",
       "Name: Dependent_count, dtype: float64"
      ]
     },
     "execution_count": 52,
     "metadata": {},
     "output_type": "execute_result"
    }
   ],
   "source": [
    "data.groupby(['Attrition_Flag'])['Dependent_count'].value_counts(1)*100"
   ]
  },
  {
   "cell_type": "markdown",
   "id": "488f3edc-2109-46d0-a0f4-b088cc9321d8",
   "metadata": {},
   "source": [
    "##### EDA - Categorical variable - Education Level "
   ]
  },
  {
   "cell_type": "code",
   "execution_count": 56,
   "id": "a1055fa5-0e0d-4bd7-b030-b8b295e9703a",
   "metadata": {},
   "outputs": [
    {
     "data": {
      "text/plain": [
       "<seaborn.axisgrid.FacetGrid at 0x1e7bf0fc640>"
      ]
     },
     "execution_count": 56,
     "metadata": {},
     "output_type": "execute_result"
    },
    {
     "data": {
      "image/png": "[encoded data removed]",
      "text/plain": [
       "<Figure size 487.125x360 with 1 Axes>"
      ]
     },
     "metadata": {
      "needs_background": "light"
     },
     "output_type": "display_data"
    }
   ],
   "source": [
    "sns.catplot(data=data, kind='count',x='Education_Level', hue='Attrition_Flag')"
   ]
  },
  {
   "cell_type": "code",
   "execution_count": 57,
   "id": "d5cb417b-95b9-476a-9401-b1a21ec51ef2",
   "metadata": {},
   "outputs": [
    {
     "data": {
      "text/plain": [
       "Graduate         36.338290\n",
       "High School      23.385223\n",
       "Uneducated       17.274628\n",
       "College          11.768123\n",
       "Post-Graduate     5.994424\n",
       "Doctorate         5.239312\n",
       "Name: Education_Level, dtype: float64"
      ]
     },
     "execution_count": 57,
     "metadata": {},
     "output_type": "execute_result"
    }
   ],
   "source": [
    "data['Education_Level'].value_counts(1)*100"
   ]
  },
  {
   "cell_type": "code",
   "execution_count": 58,
   "id": "cbec621a-5d71-4a8d-bc65-a3048cf2a634",
   "metadata": {},
   "outputs": [
    {
     "data": {
      "text/plain": [
       "Attrition_Flag                  \n",
       "Attrited Customer  Graduate         35.521517\n",
       "                   High School      22.319475\n",
       "                   Uneducated       17.286652\n",
       "                   College          11.232677\n",
       "                   Doctorate         6.929249\n",
       "                   Post-Graduate     6.710430\n",
       "Existing Customer  Graduate         36.493022\n",
       "                   High School      23.587122\n",
       "                   Uneducated       17.272350\n",
       "                   College          11.869559\n",
       "                   Post-Graduate     5.858781\n",
       "                   Doctorate         4.919165\n",
       "Name: Education_Level, dtype: float64"
      ]
     },
     "execution_count": 58,
     "metadata": {},
     "output_type": "execute_result"
    }
   ],
   "source": [
    "data.groupby(['Attrition_Flag'])['Education_Level'].value_counts(1)*100"
   ]
  },
  {
   "cell_type": "code",
   "execution_count": 59,
   "id": "31b798f7-4ada-47f5-b3d3-22ba8c0ee263",
   "metadata": {},
   "outputs": [
    {
     "data": {
      "text/plain": [
       "Education_Level\n",
       "College          46.0\n",
       "Doctorate        47.0\n",
       "Graduate         46.0\n",
       "High School      46.0\n",
       "Post-Graduate    47.0\n",
       "Uneducated       46.0\n",
       "Name: Customer_Age, dtype: float64"
      ]
     },
     "execution_count": 59,
     "metadata": {},
     "output_type": "execute_result"
    }
   ],
   "source": [
    "data.groupby(['Education_Level'])['Customer_Age'].median()"
   ]
  },
  {
   "cell_type": "code",
   "execution_count": 61,
   "id": "918bf31a-c27b-4431-8f24-4aa4ec8f6fb3",
   "metadata": {},
   "outputs": [
    {
     "data": {
      "text/plain": [
       "Education_Level                \n",
       "College          Less than $40K    34.057256\n",
       "                 $40K - $60K       18.065153\n",
       "                 $80K - $120K      17.275420\n",
       "                 $60K - $80K       13.030602\n",
       "                 abc               10.661402\n",
       "                 $120K +            6.910168\n",
       "Doctorate        Less than $40K    35.033259\n",
       "                 $40K - $60K       15.521064\n",
       "                 abc               15.521064\n",
       "                 $60K - $80K       13.082040\n",
       "                 $80K - $120K      12.638581\n",
       "                 $120K +            8.203991\n",
       "Graduate         Less than $40K    36.413043\n",
       "                 $40K - $60K       17.679028\n",
       "                 $80K - $120K      15.281330\n",
       "                 $60K - $80K       13.491049\n",
       "                 abc               10.613811\n",
       "                 $120K +            6.521739\n",
       "High School      Less than $40K    33.333333\n",
       "                 $40K - $60K       17.635370\n",
       "                 $80K - $120K      15.300546\n",
       "                 $60K - $80K       15.250869\n",
       "                 abc               11.177347\n",
       "                 $120K +            7.302534\n",
       "Post-Graduate    Less than $40K    32.945736\n",
       "                 $40K - $60K       21.511628\n",
       "                 $80K - $120K      15.697674\n",
       "                 $60K - $80K       14.922481\n",
       "                 abc                9.108527\n",
       "                 $120K +            5.813953\n",
       "Uneducated       Less than $40K    35.104237\n",
       "                 $40K - $60K       16.745124\n",
       "                 $80K - $120K      14.593141\n",
       "                 $60K - $80K       13.113652\n",
       "                 abc               12.441157\n",
       "                 $120K +            8.002690\n",
       "Name: Income_Category, dtype: float64"
      ]
     },
     "execution_count": 61,
     "metadata": {},
     "output_type": "execute_result"
    }
   ],
   "source": [
    "data.groupby(['Education_Level'])['Income_Category'].value_counts(1)*100"
   ]
  },
  {
   "cell_type": "code",
   "execution_count": 62,
   "id": "13f9f8a1-8f42-4d3c-8bb2-ea8556707de6",
   "metadata": {},
   "outputs": [
    {
     "data": {
      "text/plain": [
       "Income_Category               \n",
       "$120K +          Graduate         33.607908\n",
       "                 High School      24.217463\n",
       "                 Uneducated       19.604613\n",
       "                 College          11.532125\n",
       "                 Doctorate         6.095552\n",
       "                 Post-Graduate     4.942339\n",
       "$40K - $60K      Graduate         36.357659\n",
       "                 High School      23.339908\n",
       "                 Uneducated       16.370809\n",
       "                 College          12.031558\n",
       "                 Post-Graduate     7.297830\n",
       "                 Doctorate         4.602235\n",
       "$60K - $80K      Graduate         35.402685\n",
       "                 High School      25.755034\n",
       "                 Uneducated       16.359060\n",
       "                 College          11.073826\n",
       "                 Post-Graduate     6.459732\n",
       "                 Doctorate         4.949664\n",
       "$80K - $120K     Graduate         36.322188\n",
       "                 High School      23.404255\n",
       "                 Uneducated       16.489362\n",
       "                 College          13.297872\n",
       "                 Post-Graduate     6.155015\n",
       "                 Doctorate         4.331307\n",
       "Less than $40K   Graduate         37.903494\n",
       "                 High School      22.329451\n",
       "                 Uneducated       17.371048\n",
       "                 College          11.480865\n",
       "                 Post-Graduate     5.657238\n",
       "                 Doctorate         5.257903\n",
       "abc              Graduate         34.332989\n",
       "                 High School      23.267839\n",
       "                 Uneducated       19.131334\n",
       "                 College          11.168563\n",
       "                 Doctorate         7.238883\n",
       "                 Post-Graduate     4.860393\n",
       "Name: Education_Level, dtype: float64"
      ]
     },
     "execution_count": 62,
     "metadata": {},
     "output_type": "execute_result"
    }
   ],
   "source": [
    "data.groupby(['Income_Category'])['Education_Level'].value_counts(1)*100"
   ]
  },
  {
   "cell_type": "markdown",
   "id": "a4fe2a9b-4897-4974-bb2c-0f1e5091c03a",
   "metadata": {},
   "source": [
    "##### EDA - Categorical variable - Marital Status"
   ]
  },
  {
   "cell_type": "code",
   "execution_count": 65,
   "id": "3c5bed2f-8c71-430d-8287-1e1272fde9d8",
   "metadata": {},
   "outputs": [
    {
     "data": {
      "text/plain": [
       "<seaborn.axisgrid.FacetGrid at 0x1e7bbde6c10>"
      ]
     },
     "execution_count": 65,
     "metadata": {},
     "output_type": "execute_result"
    },
    {
     "data": {
      "image/png": "[encoded data removed]",
      "text/plain": [
       "<Figure size 487.125x360 with 1 Axes>"
      ]
     },
     "metadata": {
      "needs_background": "light"
     },
     "output_type": "display_data"
    }
   ],
   "source": [
    "sns.catplot(data=data, kind='count',x='Marital_Status', hue='Attrition_Flag')"
   ]
  },
  {
   "cell_type": "code",
   "execution_count": 66,
   "id": "2dc0bce1-ed58-464f-a641-473bd35d24d3",
   "metadata": {},
   "outputs": [
    {
     "data": {
      "text/plain": [
       "Married     49.978673\n",
       "Single      42.045212\n",
       "Divorced     7.976114\n",
       "Name: Marital_Status, dtype: float64"
      ]
     },
     "execution_count": 66,
     "metadata": {},
     "output_type": "execute_result"
    }
   ],
   "source": [
    "data['Marital_Status'].value_counts(1)*100"
   ]
  },
  {
   "cell_type": "code",
   "execution_count": 67,
   "id": "5ecca236-6d7f-4f4f-ac02-be82cc0e47ad",
   "metadata": {},
   "outputs": [
    {
     "data": {
      "text/plain": [
       "Attrition_Flag             \n",
       "Attrited Customer  Married     47.329773\n",
       "                   Single      44.592790\n",
       "                   Divorced     8.077437\n",
       "Existing Customer  Married     50.482234\n",
       "                   Single      41.560914\n",
       "                   Divorced     7.956853\n",
       "Name: Marital_Status, dtype: float64"
      ]
     },
     "execution_count": 67,
     "metadata": {},
     "output_type": "execute_result"
    }
   ],
   "source": [
    "data.groupby(['Attrition_Flag'])['Marital_Status'].value_counts(1)*100"
   ]
  },
  {
   "cell_type": "code",
   "execution_count": 68,
   "id": "d9b3e5c6-44e9-4c82-af8c-995fbabca7a0",
   "metadata": {},
   "outputs": [
    {
     "data": {
      "text/plain": [
       "Marital_Status\n",
       "Divorced    45.0\n",
       "Married     47.0\n",
       "Single      46.0\n",
       "Name: Customer_Age, dtype: float64"
      ]
     },
     "execution_count": 68,
     "metadata": {},
     "output_type": "execute_result"
    }
   ],
   "source": [
    "data.groupby(['Marital_Status'])['Customer_Age'].median()"
   ]
  },
  {
   "cell_type": "code",
   "execution_count": 69,
   "id": "94d2b7e4-941e-445e-a465-e03d1eed0a41",
   "metadata": {
    "tags": []
   },
   "outputs": [
    {
     "data": {
      "text/plain": [
       "Income_Category          \n",
       "$120K +          Married     52.058824\n",
       "                 Single      40.294118\n",
       "                 Divorced     7.647059\n",
       "$40K - $60K      Married     49.215923\n",
       "                 Single      42.460796\n",
       "                 Divorced     8.323281\n",
       "$60K - $80K      Married     50.846154\n",
       "                 Single      40.846154\n",
       "                 Divorced     8.307692\n",
       "$80K - $120K     Married     52.537527\n",
       "                 Single      40.100071\n",
       "                 Divorced     7.362402\n",
       "Less than $40K   Married     49.169435\n",
       "                 Single      43.159166\n",
       "                 Divorced     7.671398\n",
       "abc              Married     47.864078\n",
       "                 Single      43.106796\n",
       "                 Divorced     9.029126\n",
       "Name: Marital_Status, dtype: float64"
      ]
     },
     "execution_count": 69,
     "metadata": {},
     "output_type": "execute_result"
    }
   ],
   "source": [
    "data.groupby(['Income_Category'])['Marital_Status'].value_counts(1)*100"
   ]
  },
  {
   "cell_type": "code",
   "execution_count": 70,
   "id": "ad5776a1-b6c8-4260-b71a-c3ffe6e2dfc8",
   "metadata": {},
   "outputs": [
    {
     "data": {
      "text/plain": [
       "Dependent_count          \n",
       "0                Single      46.341463\n",
       "                 Married     44.947735\n",
       "                 Divorced     8.710801\n",
       "1                Married     48.740480\n",
       "                 Single      45.108377\n",
       "                 Divorced     6.151142\n",
       "2                Married     51.545564\n",
       "                 Single      40.264954\n",
       "                 Divorced     8.189482\n",
       "3                Married     50.180505\n",
       "                 Single      41.195347\n",
       "                 Divorced     8.624148\n",
       "4                Married     50.521195\n",
       "                 Single      40.792217\n",
       "                 Divorced     8.686588\n",
       "5                Married     53.229974\n",
       "                 Single      40.568475\n",
       "                 Divorced     6.201550\n",
       "Name: Marital_Status, dtype: float64"
      ]
     },
     "execution_count": 70,
     "metadata": {},
     "output_type": "execute_result"
    }
   ],
   "source": [
    "data.groupby(['Dependent_count'])['Marital_Status'].value_counts(1)*100"
   ]
  },
  {
   "cell_type": "markdown",
   "id": "3b6c1c2b-7a0a-4df1-aa9a-f77b4085408a",
   "metadata": {},
   "source": [
    "##### EDA - Categorical variable - Income Category"
   ]
  },
  {
   "cell_type": "code",
   "execution_count": null,
   "id": "69250c45-341f-420b-8922-367640539b53",
   "metadata": {},
   "outputs": [],
   "source": [
    "sns.catplot(data=data, kind='count',x='Education_Level', hue='Attrition_Flag')"
   ]
  },
  {
   "cell_type": "code",
   "execution_count": null,
   "id": "6fdca889-1eb3-4f89-bba9-1528b7edf5ea",
   "metadata": {},
   "outputs": [],
   "source": [
    "data['Education_Level'].value_counts(1)*100"
   ]
  },
  {
   "cell_type": "code",
   "execution_count": null,
   "id": "51864b18-e08d-49b2-952a-5d6981fd3501",
   "metadata": {},
   "outputs": [],
   "source": [
    "data.groupby(['Attrition_Flag'])['Education_Level'].value_counts(1)*100"
   ]
  },
  {
   "cell_type": "markdown",
   "id": "f178aadd-66c2-44c0-b50a-5361293c872f",
   "metadata": {
    "tags": []
   },
   "source": [
    "##### EDA - Categorical variable - Card Category"
   ]
  },
  {
   "cell_type": "code",
   "execution_count": null,
   "id": "7bea7fee-77ed-4f90-bc88-5c65784ef001",
   "metadata": {},
   "outputs": [],
   "source": [
    "sns.catplot(data=data, kind='count',x='Education_Level', hue='Attrition_Flag')"
   ]
  },
  {
   "cell_type": "code",
   "execution_count": null,
   "id": "4415787f-7966-4175-8b89-d4f04bcf660d",
   "metadata": {},
   "outputs": [],
   "source": [
    "data['Education_Level'].value_counts(1)*100"
   ]
  },
  {
   "cell_type": "code",
   "execution_count": null,
   "id": "e703c7ca-3251-42e8-b812-25ef80a6dc42",
   "metadata": {},
   "outputs": [],
   "source": [
    "data.groupby(['Attrition_Flag'])['Education_Level'].value_counts(1)*100"
   ]
  },
  {
   "cell_type": "markdown",
   "id": "c43db3fd-4aea-4052-b787-5823e2a8636a",
   "metadata": {
    "tags": []
   },
   "source": [
    "##### EDA - Categorical variable - Total Relationship count"
   ]
  },
  {
   "cell_type": "code",
   "execution_count": null,
   "id": "fdbe8a94-7efd-4731-a0a6-19229d151eb3",
   "metadata": {},
   "outputs": [],
   "source": [
    "sns.catplot(data=data, kind='count',x='Education_Level', hue='Attrition_Flag')"
   ]
  },
  {
   "cell_type": "code",
   "execution_count": null,
   "id": "9fc895f2-ef0f-444e-bffc-85d00e95e6b1",
   "metadata": {},
   "outputs": [],
   "source": [
    "data['Education_Level'].value_counts(1)*100"
   ]
  },
  {
   "cell_type": "code",
   "execution_count": null,
   "id": "19f087d4-c753-4d86-ab86-a8ee802fbbcf",
   "metadata": {},
   "outputs": [],
   "source": [
    "data.groupby(['Attrition_Flag'])['Education_Level'].value_counts(1)*100"
   ]
  },
  {
   "cell_type": "markdown",
   "id": "fa7d833d-1f6d-4468-ac56-b574c35f57d2",
   "metadata": {},
   "source": [
    "##### EDA - Categorical variable - MOnths Inactive"
   ]
  },
  {
   "cell_type": "code",
   "execution_count": null,
   "id": "059c51ed-ceaf-470e-9066-d282ce89e6dd",
   "metadata": {},
   "outputs": [],
   "source": [
    "sns.catplot(data=data, kind='count',x='Education_Level', hue='Attrition_Flag')"
   ]
  },
  {
   "cell_type": "code",
   "execution_count": null,
   "id": "6e3a74e3-4fb0-4190-845c-586666e32622",
   "metadata": {},
   "outputs": [],
   "source": [
    "data['Education_Level'].value_counts(1)*100"
   ]
  },
  {
   "cell_type": "code",
   "execution_count": null,
   "id": "d9bd6419-020b-4ad2-9536-1be9526a8893",
   "metadata": {},
   "outputs": [],
   "source": [
    "data.groupby(['Attrition_Flag'])['Education_Level'].value_counts(1)*100"
   ]
  },
  {
   "cell_type": "markdown",
   "id": "361246a1-2374-4a6c-b6a2-2ca1bdf84435",
   "metadata": {
    "tags": []
   },
   "source": [
    "##### EDA - Categorical variable - Contacts Counts"
   ]
  },
  {
   "cell_type": "code",
   "execution_count": null,
   "id": "b6c39234-1078-4b9f-8a0b-0952c1c8a6e7",
   "metadata": {},
   "outputs": [],
   "source": [
    "sns.catplot(data=data, kind='count',x='Education_Level', hue='Attrition_Flag')"
   ]
  },
  {
   "cell_type": "code",
   "execution_count": null,
   "id": "c00a57a5-54a7-43cb-8ba1-8e9d4fb912d4",
   "metadata": {},
   "outputs": [],
   "source": [
    "data['Education_Level'].value_counts(1)*100"
   ]
  },
  {
   "cell_type": "code",
   "execution_count": null,
   "id": "224905c9-30c3-489d-a6e2-4e74bf9d8d65",
   "metadata": {},
   "outputs": [],
   "source": [
    "data.groupby(['Attrition_Flag'])['Education_Level'].value_counts(1)*100"
   ]
  },
  {
   "cell_type": "markdown",
   "id": "f160836d-360a-4f7f-aa20-c1836af2ae96",
   "metadata": {},
   "source": [
    "### Insights on Categorical columns \n",
    "- Gender: does not appear to influence Attrition: Data; higher percentage of females attrited than males\n",
    "- Dependent Count: Attrition rates do not appear to be influenced by dependent count (other than a slightly higher rate of 29% attrited customers for dependent count of 3)\n",
    "- Education_Level: Education Level does not appear to influence Attrition rate; consider dropping Education level which has 1519 nulls (15%  of data) and does not appear to inform attrition rate and does not appear to be related to either Customer age or income level (creating a risk of imputing the mode for nulls in the data)\n",
    "- Marital Status: marital Status appears to slightly influence Attrition; Impute missing values based on dependent count; dependent count 0 - Single; dependent count 1 or greater is Married\n",
    "- Income Category\n",
    "- Card Category\n",
    "- Total Relationship Count\n",
    "- Months Inactive\n",
    "- Contacts Counts\n",
    "\n"
   ]
  },
  {
   "cell_type": "code",
   "execution_count": 29,
   "id": "fb4ee964-a957-4688-bcf2-96775851ac9f",
   "metadata": {},
   "outputs": [
    {
     "name": "stdout",
     "output_type": "stream",
     "text": [
      "<class 'pandas.core.frame.DataFrame'>\n",
      "RangeIndex: 10127 entries, 0 to 10126\n",
      "Data columns (total 21 columns):\n",
      " #   Column                    Non-Null Count  Dtype   \n",
      "---  ------                    --------------  -----   \n",
      " 0   CLIENTNUM                 10127 non-null  int64   \n",
      " 1   Attrition_Flag            10127 non-null  category\n",
      " 2   Customer_Age              10127 non-null  int64   \n",
      " 3   Gender                    10127 non-null  category\n",
      " 4   Dependent_count           10127 non-null  category\n",
      " 5   Education_Level           8608 non-null   category\n",
      " 6   Marital_Status            9378 non-null   category\n",
      " 7   Income_Category           10127 non-null  category\n",
      " 8   Card_Category             10127 non-null  category\n",
      " 9   Months_on_book            10127 non-null  int64   \n",
      " 10  Total_Relationship_Count  10127 non-null  category\n",
      " 11  Months_Inactive_12_mon    10127 non-null  category\n",
      " 12  Contacts_Count_12_mon     10127 non-null  category\n",
      " 13  Credit_Limit              10127 non-null  float64 \n",
      " 14  Total_Revolving_Bal       10127 non-null  int64   \n",
      " 15  Avg_Open_To_Buy           10127 non-null  float64 \n",
      " 16  Total_Amt_Chng_Q4_Q1      10127 non-null  float64 \n",
      " 17  Total_Trans_Amt           10127 non-null  int64   \n",
      " 18  Total_Trans_Ct            10127 non-null  int64   \n",
      " 19  Total_Ct_Chng_Q4_Q1       10127 non-null  float64 \n",
      " 20  Avg_Utilization_Ratio     10127 non-null  float64 \n",
      "dtypes: category(10), float64(5), int64(6)\n",
      "memory usage: 971.4 KB\n"
     ]
    }
   ],
   "source": [
    "data.info()"
   ]
  },
  {
   "cell_type": "code",
   "execution_count": null,
   "id": "572e1b28-afa2-44c4-8fac-0c31ab25a24b",
   "metadata": {},
   "outputs": [],
   "source": []
  },
  {
   "cell_type": "code",
   "execution_count": null,
   "id": "0ac64343-a91f-4ab7-a4f3-f1b3008d9169",
   "metadata": {},
   "outputs": [],
   "source": []
  },
  {
   "cell_type": "code",
   "execution_count": null,
   "id": "31f21c5e-5953-408a-b7ab-a23f0be905af",
   "metadata": {},
   "outputs": [],
   "source": []
  },
  {
   "cell_type": "code",
   "execution_count": null,
   "id": "21a563d0-eae7-40f1-bed0-5f24e0e10ef7",
   "metadata": {},
   "outputs": [],
   "source": []
  },
  {
   "cell_type": "code",
   "execution_count": null,
   "id": "18209d43-7f37-487d-b348-f1f313b80658",
   "metadata": {},
   "outputs": [],
   "source": [
    "# Explore relationships and distributin of variablesa\n",
    "sns.pairplot(data = data , hue='Attrition_Flag' , diag_kind = 'kde',diag_kws=dict(fill=False))\n",
    "plt.show()"
   ]
  },
  {
   "cell_type": "code",
   "execution_count": null,
   "id": "fffc194e-d5a2-42e6-a643-6a0a490cf416",
   "metadata": {},
   "outputs": [],
   "source": []
  },
  {
   "cell_type": "code",
   "execution_count": null,
   "id": "8e058a6b-5486-4d5f-8845-b277d534456a",
   "metadata": {},
   "outputs": [],
   "source": []
  },
  {
   "cell_type": "code",
   "execution_count": null,
   "id": "aa8949b0-ed17-4721-b7b8-f6984d133d2d",
   "metadata": {},
   "outputs": [],
   "source": []
  },
  {
   "cell_type": "code",
   "execution_count": null,
   "id": "6ccb48e3-433d-4835-aab8-4723deef8f68",
   "metadata": {},
   "outputs": [],
   "source": []
  },
  {
   "cell_type": "code",
   "execution_count": null,
   "id": "37da2c4e-50da-4a64-bffe-110170988870",
   "metadata": {},
   "outputs": [],
   "source": []
  },
  {
   "cell_type": "code",
   "execution_count": null,
   "id": "13aa3ab8-ccc4-4454-bc87-e3d520b15233",
   "metadata": {},
   "outputs": [],
   "source": []
  },
  {
   "cell_type": "code",
   "execution_count": null,
   "id": "3c97dcbb-6d9a-4eb0-b47a-219fcc9923ad",
   "metadata": {},
   "outputs": [],
   "source": []
  },
  {
   "cell_type": "code",
   "execution_count": null,
   "id": "9041d42c-cdda-47e7-80b5-4106b42c7d83",
   "metadata": {},
   "outputs": [],
   "source": []
  },
  {
   "cell_type": "code",
   "execution_count": null,
   "id": "e6561505-8e7f-45fc-9284-86cdc6037cbf",
   "metadata": {},
   "outputs": [],
   "source": []
  },
  {
   "cell_type": "code",
   "execution_count": null,
   "id": "6787a462-c591-44b0-9a0c-252ca8970fc4",
   "metadata": {},
   "outputs": [],
   "source": []
  },
  {
   "cell_type": "markdown",
   "id": "0f6054f3-444e-47ef-b4a5-50fcb6db4b32",
   "metadata": {},
   "source": [
    "## Data Pre-processing\n",
    "##### - Prepare the data for analysis - Feature Engineering - Missing value Treatment - Outlier Treatment Note: Please ensure no data leakage occurs among train-test and validation sets"
   ]
  },
  {
   "cell_type": "markdown",
   "id": "80f53578-f7e9-405e-b54e-b3dc41d81112",
   "metadata": {},
   "source": [
    "## Model Building\n",
    "##### - Choose metric on interest - Build 6 models (from logistic regression, decision trees, bagging and boosting methods) Note: You can choose not to build XGBoost if you are facing issues with the installation "
   ]
  },
  {
   "cell_type": "markdown",
   "id": "95c1ca67-b113-4c60-9da9-c13be4cf9ea0",
   "metadata": {},
   "source": [
    "## Model building - Oversampled data\n",
    "##### Build 6 models using oversampled data (from logistic regression, decision trees, bagging and boosting methods) - You can choose not to build XGBoost if you are facing issues with the installation"
   ]
  },
  {
   "cell_type": "markdown",
   "id": "78cedf2e-a143-4725-a4e7-b25e438b96fb",
   "metadata": {},
   "source": [
    "## Model building - Undersampled data\n",
    "##### Build 6 models using undersampled data(from logistic regression, decision trees, bagging and boosting methods) - You can choose not to build XGBoost if you are facing issues with installation"
   ]
  },
  {
   "cell_type": "markdown",
   "id": "7f51caf4-63a0-43ee-95d2-fa4039a559da",
   "metadata": {},
   "source": [
    "## Hyperparameter tuning using random search\n",
    "##### - Choose models that might perform better after tuning (tune at least 3 models out of 18 built in the previous steps) - Provide proper reasoning for tuning that model - Tune the best 3 models obtained above using randomized search and metric of interest - Check the performance of 3 tuned models"
   ]
  },
  {
   "cell_type": "markdown",
   "id": "9cc35555-bd0b-4de0-b829-a3db7c342afc",
   "metadata": {},
   "source": [
    "## Model Performances\n",
    "##### - Compare the model performance of tuned models - Choose the best model"
   ]
  },
  {
   "cell_type": "markdown",
   "id": "dc39fd8f-8041-4424-8870-1052e0819cf0",
   "metadata": {},
   "source": [
    "## Productionize the model\n",
    "##### - Create a final model using pipelines"
   ]
  },
  {
   "cell_type": "markdown",
   "id": "1511ae2c-5e4b-469b-8ce2-398d576f8245",
   "metadata": {},
   "source": [
    "## Actionable Insights & Recommendations\n",
    "##### - Business recommendations and insights"
   ]
  },
  {
   "cell_type": "markdown",
   "id": "a36d222e-f2fc-400d-b515-6bba789d7672",
   "metadata": {},
   "source": [
    "## Notebook - Overall quality\n",
    "- Structure and flow - Well commented code\n"
   ]
  },
  {
   "cell_type": "code",
   "execution_count": null,
   "id": "10fc7636-6f22-4b6c-8eb8-a208feea98a6",
   "metadata": {},
   "outputs": [],
   "source": []
  }
 ],
 "metadata": {
  "kernelspec": {
   "display_name": "Python 3 (ipykernel)",
   "language": "python",
   "name": "python3"
  },
  "language_info": {
   "codemirror_mode": {
    "name": "ipython",
    "version": 3
   },
   "file_extension": ".py",
   "mimetype": "text/x-python",
   "name": "python",
   "nbconvert_exporter": "python",
   "pygments_lexer": "ipython3",
   "version": "3.8.13"
  }
 },
 "nbformat": 4,
 "nbformat_minor": 5
}
